{
  "cells": [
    {
      "cell_type": "markdown",
      "metadata": {
        "id": "n90H9I0cMQvY"
      },
      "source": [
        "------\n",
        "### Library setup and mounting g-drive \n"
      ]
    },
    {
      "cell_type": "code",
      "execution_count": null,
      "metadata": {
        "colab": {
          "base_uri": "https://localhost:8080/"
        },
        "id": "2DqCV-Yrk0o5",
        "outputId": "a799d4fb-ec82-4944-85c4-4d7a8f40cd5b"
      },
      "outputs": [
        {
          "name": "stdout",
          "output_type": "stream",
          "text": [
            "Mounted at /content/drive\n"
          ]
        }
      ],
      "source": [
        "from google.colab import drive\n",
        "drive.mount('/content/drive')"
      ]
    },
    {
      "cell_type": "code",
      "execution_count": null,
      "metadata": {
        "id": "jq6WlzsSJfX7"
      },
      "outputs": [],
      "source": [
        "# clone megatron model from official NVIDIA repository\n",
        "!git clone https://github.com/NVIDIA/Megatron-LM\n",
        "!git clone https://github.com/huggingface/transformers/"
      ]
    },
    {
      "cell_type": "code",
      "execution_count": null,
      "metadata": {
        "id": "bUELP99BOMMI"
      },
      "outputs": [],
      "source": [
        "%cd transformers\n",
        "!mkdir megatron_lm_345m"
      ]
    },
    {
      "cell_type": "code",
      "execution_count": null,
      "metadata": {
        "id": "LlICaYzQan59"
      },
      "outputs": [],
      "source": [
        "#!pip install git+https://github.com/huggingface/nlp\n",
        "# !pip install --quiet transformers==2.11.0\n",
        "!pip install --quiet transformers\n",
        "!pip install --quiet nlp==0.2.0\n",
        "!pip install --quiet datasets"
      ]
    },
    {
      "cell_type": "code",
      "execution_count": null,
      "metadata": {
        "id": "fXB-yZtOOEta"
      },
      "outputs": [],
      "source": [
        "# !wget --content-disposition https://api.ngc.nvidia.com/v2/models/nvidia/megatron_lm_345m/versions/v0.0/zip -O megatron_lm_345m/checkpoint.zip\n",
        "!wget --content-disposition https://api.ngc.nvidia.com/v2/models/nvidia/megatron_bert_345m/versions/v0.1_cased/zip -O megatron_lm_345m/checkpoint.zip\n",
        "!python src/transformers/models/megatron_bert/convert_megatron_bert_checkpoint.py megatron_lm_345m/checkpoint.zip"
      ]
    },
    {
      "cell_type": "code",
      "execution_count": null,
      "metadata": {
        "id": "ejhYiFELazOd"
      },
      "outputs": [],
      "source": [
        "import numpy as np\n",
        "import torch\n",
        "import torch.nn as nn\n",
        "import pandas as pd\n",
        "import transformers\n",
        "import nlp\n",
        "# from torch.utils.data import Dataset\n",
        "from datasets import load_dataset, Dataset\n",
        "import matplotlib.pyplot as plt\n",
        "import logging\n",
        "from sklearn.model_selection import train_test_split\n",
        "logging.basicConfig(level=logging.INFO)\n",
        "\n",
        "import json\n",
        "from tqdm.notebook import tqdm\n",
        "\n",
        "tqdm.pandas()"
      ]
    },
    {
      "cell_type": "markdown",
      "metadata": {
        "id": "HXdgg0ucNGvj"
      },
      "source": [
        "------\n",
        "### Fetching our data\n"
      ]
    },
    {
      "cell_type": "code",
      "execution_count": null,
      "metadata": {
        "id": "CvxSRaQFrWC1"
      },
      "outputs": [],
      "source": [
        "# paths to semeval dataset\n",
        "path_to_longform_textrank_data = \"../dataset/semeval/\"\n",
        "path_to_train = f\"{path_to_longform_textrank_data}train.csv\"\n",
        "path_to_test = f\"{path_to_longform_textrank_data}test.csv\"\n",
        "path_to_validation = f\"{path_to_longform_textrank_data}final_test_v1.csv\"\n",
        "\n",
        "# paths to fnc dataset\n",
        "path_to_fnc_data = \"../dataset/FNC/\"\n",
        "path_to_fnc_train = f\"{path_to_fnc_data}train_v2.csv\"\n",
        "path_to_fnc_validation = f\"{path_to_fnc_data}validation.csv\"\n",
        "path_to_fnc_test = f\"{path_to_fnc_data}test_v2.csv\"\n",
        "\n",
        "# path to hyperpartisan pan data\n",
        "path_to_pan_data = \"../dataset/hyperpartisan_dataset/\"\n",
        "path_to_pan_train = f\"{path_to_pan_data}train.csv\"\n",
        "path_to_pan_validation = f\"{path_to_pan_data}validation.csv\"\n",
        "path_to_pan_test = f\"{path_to_pan_data}test.csv\""
      ]
    },
    {
      "cell_type": "code",
      "execution_count": null,
      "metadata": {
        "id": "pntb5EqgapA1"
      },
      "outputs": [],
      "source": [
        "dataset_dict = {\n",
        "  \"stsb\": load_dataset('glue', name='stsb'),\n",
        "  \"semeval\": load_dataset('csv', data_files={\n",
        "      'train': path_to_train,\n",
        "      'validation': path_to_validation,\n",
        "      'test': path_to_test,\n",
        "  }),\n",
        "  \"fnc\": load_dataset('csv', data_files={\n",
        "      'train': path_to_fnc_train,\n",
        "      'validation': path_to_fnc_validation,\n",
        "      'test': path_to_fnc_test,\n",
        "  }),\n",
        "  \"pan\": load_dataset('csv', data_files={\n",
        "      'train': path_to_pan_train,\n",
        "      'validation': path_to_pan_validation,\n",
        "      'test': path_to_pan_test,\n",
        "  })\n",
        "}"
      ]
    },
    {
      "cell_type": "markdown",
      "metadata": {
        "id": "GavUAKZQRu4o"
      },
      "source": [
        "remove all the extra fields and phase data from rte and rename the fields."
      ]
    },
    {
      "cell_type": "code",
      "execution_count": null,
      "metadata": {
        "id": "PlFMhcMUPpBE"
      },
      "outputs": [],
      "source": [
        "dataset_dict"
      ]
    },
    {
      "cell_type": "markdown",
      "metadata": {
        "id": "IFTXc2iVOizO"
      },
      "source": [
        "We can show one example from each task."
      ]
    },
    {
      "cell_type": "code",
      "execution_count": null,
      "metadata": {
        "id": "OiP4yQMPOQVz"
      },
      "outputs": [],
      "source": [
        "for task_name, dataset in dataset_dict.items():\n",
        "    print(task_name)\n",
        "    print(dataset_dict[task_name][\"train\"][0])\n",
        "    print()"
      ]
    },
    {
      "cell_type": "markdown",
      "metadata": {
        "id": "YMBgWhb9FzCc"
      },
      "source": [
        "------\n",
        "### Creating multitask training model"
      ]
    },
    {
      "cell_type": "code",
      "execution_count": null,
      "metadata": {
        "id": "H0JkiXzeF6N4"
      },
      "outputs": [],
      "source": [
        "class MultitaskModel(transformers.PreTrainedModel):\n",
        "    def __init__(self, encoder, taskmodels_dict):\n",
        "        \"\"\"\n",
        "        Setting MultitaskModel up as a PretrainedModel allows us\n",
        "        to take better advantage of Trainer features\n",
        "        \"\"\"\n",
        "        super().__init__(transformers.PretrainedConfig())\n",
        "\n",
        "        self.encoder = encoder\n",
        "        self.taskmodels_dict = nn.ModuleDict(taskmodels_dict)\n",
        "\n",
        "    @classmethod\n",
        "    def create(cls, model_name, model_type_dict, model_config_dict):\n",
        "        \"\"\"\n",
        "        This creates a MultitaskModel using the model class and config objects\n",
        "        from single-task models. \n",
        "\n",
        "        We do this by creating each single-task model, and having them share\n",
        "        the same encoder transformer.\n",
        "        \"\"\"\n",
        "        # print(\"PRINT: \", cls, type(cls))\n",
        "        shared_encoder = None\n",
        "        taskmodels_dict = {}\n",
        "        for task_name, model_type in model_type_dict.items():\n",
        "            model = model_type.from_pretrained(\n",
        "                model_name, \n",
        "                config=model_config_dict[task_name],\n",
        "            )\n",
        "            # print(model)\n",
        "            if shared_encoder is None:\n",
        "                # print(cls.get_encoder_attr_name(model))\n",
        "                shared_encoder = getattr(model, cls.get_encoder_attr_name(model))\n",
        "                # print(getattr(model, cls.get_encoder_attr_name(model)))\n",
        "            else:\n",
        "                setattr(model, cls.get_encoder_attr_name(model), shared_encoder)\n",
        "            taskmodels_dict[task_name] = model.to(device)\n",
        "\n",
        "        # print(taskmodels_dict)\n",
        "\n",
        "        return cls(encoder=shared_encoder, taskmodels_dict=taskmodels_dict)\n",
        "\n",
        "    @classmethod\n",
        "    def get_encoder_attr_name(cls, model):\n",
        "        \"\"\"\n",
        "        The encoder transformer is named differently in each model \"architecture\".\n",
        "        This method lets us get the name of the encoder attribute\n",
        "        \"\"\"\n",
        "        model_class_name = model.__class__.__name__\n",
        "        if model_class_name.startswith(\"Bert\"):\n",
        "            return \"bert\"\n",
        "        elif model_class_name.startswith(\"Roberta\"):\n",
        "            return \"roberta\"\n",
        "        elif model_class_name.startswith(\"Albert\"):\n",
        "            return \"albert\"\n",
        "        elif model_class_name.startswith(\"Megatron\"):\n",
        "            return \"bert\"\n",
        "        else:\n",
        "            raise KeyError(f\"Add support for new model {model_class_name}\")\n",
        "\n",
        "    def forward(self, task_name, **kwargs):\n",
        "        output = self.taskmodels_dict[task_name](**kwargs)\n",
        "        return output"
      ]
    },
    {
      "cell_type": "markdown",
      "metadata": {
        "id": "7zSZsp8Cb7gd"
      },
      "source": [
        "As described above, the `MultitaskModel` class consists of only two components - the shared \"encoder\", a dictionary to the individual task models. Now, we can simply create the corresponding task models by supplying the invidual model classes and model configs. We will use Transformers' AutoModels to further automate the choice of model class given a model architecture (in our case, let's use `megatron`)."
      ]
    },
    {
      "cell_type": "markdown",
      "metadata": {
        "id": "lSKjquzas56c"
      },
      "source": [
        "![image.png](data:image/png;base64,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)"
      ]
    },
    {
      "cell_type": "code",
      "execution_count": null,
      "metadata": {
        "id": "e_sosFINo24B"
      },
      "outputs": [],
      "source": [
        "model_name = \"/content/transformers/megatron_lm_345m\"\n",
        "# model_name = \"roberta-base\"\n",
        "multitask_model = MultitaskModel.create(\n",
        "    model_name=model_name,\n",
        "    model_type_dict={\n",
        "        \"stsb\": transformers.AutoModelForSequenceClassification,\n",
        "        \"pan\": transformers.AutoModelForSequenceClassification,\n",
        "        \"fnc\": transformers.AutoModelForSequenceClassification,\n",
        "        \"semeval\": transformers.AutoModelForSequenceClassification,\n",
        "    },\n",
        "    model_config_dict={\n",
        "        \"stsb\": transformers.AutoConfig.from_pretrained(model_name, num_labels=1),\n",
        "        \"pan\": transformers.AutoConfig.from_pretrained(model_name, num_labels=5),\n",
        "        \"fnc\": transformers.AutoConfig.from_pretrained(model_name, num_labels=1),\n",
        "        \"semeval\": transformers.AutoConfig.from_pretrained(model_name, num_labels=1),\n",
        "    },\n",
        ")"
      ]
    },
    {
      "cell_type": "markdown",
      "metadata": {
        "id": "TxSAQ6q4O-uL"
      },
      "source": [
        "To confirm that all three task-models use the same encoder, we can check the data pointers of the respective encoders. In this case, we'll check that the word embeddings in each model all point to the same memory location."
      ]
    },
    {
      "cell_type": "code",
      "execution_count": null,
      "metadata": {
        "id": "yrtS3ZeSsoZw"
      },
      "outputs": [],
      "source": [
        "if model_name == \"/content/transformers/megatron_lm_345m\":\n",
        "    print(multitask_model.encoder.embeddings.word_embeddings.weight.data_ptr())\n",
        "    print(multitask_model.taskmodels_dict[\"stsb\"].bert.embeddings.word_embeddings.weight.data_ptr())\n",
        "    print(multitask_model.taskmodels_dict[\"semeval\"].bert.embeddings.word_embeddings.weight.data_ptr())\n",
        "else:\n",
        "    print(\"Exercise for the reader: add a check for other model architectures =)\")"
      ]
    },
    {
      "cell_type": "markdown",
      "metadata": {
        "id": "PujQR2HkPTRk"
      },
      "source": [
        "## Processing our task data\n",
        "\n",
        "We have created a dictionary of NLP datasets above, but we need to do a little more work to convert the respective task data into model inputs.\n",
        "\n",
        "We'll start by first getting the tokenizer corresponding to our model."
      ]
    },
    {
      "cell_type": "code",
      "execution_count": null,
      "metadata": {
        "colab": {
          "base_uri": "https://localhost:8080/"
        },
        "id": "0n96ifPukDkb",
        "outputId": "9e9f1cfd-0bc1-40eb-b30b-d140f3cf30e1"
      },
      "outputs": [
        {
          "name": "stderr",
          "output_type": "stream",
          "text": [
            "404 Client Error: Entry Not Found for url: https://huggingface.co/nvidia/megatron-bert-uncased-345m/resolve/main/config.json\n"
          ]
        }
      ],
      "source": [
        "tokenizer_model_name = \"nvidia/megatron-bert-uncased-345m\"\n",
        "# tokenizer = transformers.AutoTokenizer.from_pretrained(model_name)\n",
        "tokenizer = BertTokenizer.from_pretrained(tokenizer_model_name)\n",
        "# don't judge the error"
      ]
    },
    {
      "cell_type": "markdown",
      "metadata": {
        "id": "cmIPnrfbGIZM"
      },
      "source": [
        "------\n",
        "### Preparation of dataset:"
      ]
    },
    {
      "cell_type": "code",
      "execution_count": null,
      "metadata": {
        "id": "RSeBYKCublmo"
      },
      "outputs": [],
      "source": [
        "max_length = 128\n",
        "\n",
        "def convert_to_stsb_features(example_batch):\n",
        "    inputs = list(zip(example_batch['sentence1'], example_batch['sentence2']))\n",
        "    features = tokenizer.batch_encode_plus(\n",
        "        inputs, max_length=max_length, padding=\"max_length\", truncation=True\n",
        "    )\n",
        "    features[\"labels\"] = example_batch[\"label\"]\n",
        "    return features\n",
        "\n",
        "def convert_to_cola_features(example_batch):\n",
        "    features = tokenizer.batch_encode_plus(\n",
        "        example_batch[\"sentence\"], max_length=max_length, pad_to_max_length=True\n",
        "    )\n",
        "    features[\"labels\"] = example_batch[\"label\"]\n",
        "    return features\n",
        "\n",
        "def convert_to_mrpc_features(example_batch):\n",
        "    inputs = list(zip(example_batch['sentence1'], example_batch['sentence2']))\n",
        "    features = tokenizer.batch_encode_plus(\n",
        "        inputs, max_length=max_length, pad_to_max_length=True\n",
        "    )\n",
        "    features[\"labels\"] = example_batch[\"label\"]\n",
        "    return features\n",
        "\n",
        "def convert_to_semeval_features(example_batch):\n",
        "    inputs = list(zip(example_batch['sentence1'], example_batch['sentence2']))\n",
        "    features = tokenizer.batch_encode_plus(\n",
        "        inputs, max_length=512, padding=\"max_length\", truncation=True\n",
        "    )\n",
        "    features[\"labels\"] = example_batch[\"label\"]\n",
        "    return features\n",
        "\n",
        "def convert_to_rte_features(example_batch):\n",
        "    inputs = list(zip(example_batch['sentence1'], example_batch['sentence2']))\n",
        "    features = tokenizer.batch_encode_plus(\n",
        "        inputs, max_length=max_length, pad_to_max_length=True\n",
        "    )\n",
        "    features[\"labels\"] = example_batch[\"label\"]\n",
        "    return features\n",
        "\n",
        "def convert_to_qnli_features(example_batch):\n",
        "    inputs = list(zip(example_batch['question'], example_batch['sentence']))\n",
        "    features = tokenizer.batch_encode_plus(\n",
        "        inputs, max_length=max_length, pad_to_max_length=True\n",
        "    )\n",
        "    features[\"labels\"] = example_batch[\"label\"]\n",
        "    return features\n",
        "\n",
        "def convert_to_fnc_features(example_batch):\n",
        "    inputs = list(zip(example_batch['Headline'], example_batch['articleBody']))\n",
        "    features = tokenizer.batch_encode_plus(\n",
        "        inputs, max_length=max_length, pad_to_max_length=True\n",
        "    )\n",
        "    # print(type(example_batch[\"Stance\"]))\n",
        "\n",
        "    features[\"labels\"] = np.array(example_batch[\"Stance\"]).astype(np.float)\n",
        "    return features\n",
        "\n",
        "def convert_to_fnid_features(example_batch):\n",
        "    inputs = list(zip(example_batch['Headline'], example_batch['articleBody']))\n",
        "    features = tokenizer.batch_encode_plus(\n",
        "        inputs, max_length=max_length, pad_to_max_length=True\n",
        "    )\n",
        "    features[\"labels\"] = example_batch[\"Stance\"]\n",
        "    return features\n",
        "\n",
        "def convert_to_pan_features(example_batch):\n",
        "    inputs = list(zip(example_batch['title'], example_batch['text']))\n",
        "    features = tokenizer.batch_encode_plus(\n",
        "        inputs, max_length=max_length, pad_to_max_length=True\n",
        "    )\n",
        "    features[\"labels\"] = example_batch[\"bias\"]\n",
        "    return features\n",
        "\n",
        "def convert_to_doc_nli_features(example_batch):\n",
        "    inputs = list(zip(example_batch['premise'], example_batch['hypothesis']))\n",
        "    features = tokenizer.batch_encode_plus(\n",
        "        inputs, max_length=max_length, pad_to_max_length=True\n",
        "    )\n",
        "    features[\"labels\"] = example_batch[\"label\"]\n",
        "    return features\n",
        "\n",
        "convert_func_dict = {\n",
        "    \"stsb\": convert_to_stsb_features,\n",
        "    \"semeval\": convert_to_semeval_features,\n",
        "}"
      ]
    },
    {
      "cell_type": "markdown",
      "metadata": {
        "id": "eULIAQ9WRYXn"
      },
      "source": [
        "Now that we have defined the above functions, we can use `dataset.map` method available in the NLP library to apply the functions over our entire datasets. The NLP library that handles the mapping efficiently and caches the features."
      ]
    },
    {
      "cell_type": "code",
      "execution_count": null,
      "metadata": {
        "id": "nw2Z74iVu5Kf"
      },
      "outputs": [],
      "source": [
        "# to ouput only errors, ignore the warnings\n",
        "transformers.logging.set_verbosity_error()"
      ]
    },
    {
      "cell_type": "code",
      "execution_count": null,
      "metadata": {
        "id": "IcLnS85Hkhbf"
      },
      "outputs": [],
      "source": [
        "columns_dict = {\n",
        "    \"stsb\": ['input_ids', 'attention_mask', 'labels'],\n",
        "    \"semeval\": ['input_ids', 'attention_mask', 'labels'],\n",
        "}\n",
        "\n",
        "features_dict = {}\n",
        "for task_name, dataset in dataset_dict.items():\n",
        "    print(u\"\\u2192\", task_name)\n",
        "    features_dict[task_name] = {}\n",
        "    for phase, phase_dataset in dataset.items():\n",
        "        features_dict[task_name][phase] = phase_dataset.map(\n",
        "            convert_func_dict[task_name],\n",
        "            batched=True,\n",
        "            load_from_cache_file=False,\n",
        "        )\n",
        "        features_dict[task_name][phase].set_format(\n",
        "            type=\"torch\", \n",
        "            columns=columns_dict[task_name],\n",
        "        )\n",
        "        print(task_name, phase, len(phase_dataset), len(features_dict[task_name][phase]))"
      ]
    },
    {
      "cell_type": "markdown",
      "metadata": {
        "id": "L4N7IF9hTR7m"
      },
      "source": [
        "## Preparing a multi-task data loader and Trainer\n",
        "\n",
        "Setting up a multi-task data loader should be simple in principle - we simply need to sample from multiple single-task data loaders with some probability, and feed each batch to the multi-task model above. Of course, along with each batch, we also need to tell the model what task it is for, so `MultitaskModel` knows to use the right corresponding task-model.\n",
        "\n",
        "However, because we want to use the built-in `Trainer` class in Transformers, this gets a little tricky, since the `Trainer` expects a single data loader, and expects a very specific format of per-batch data. This slice of code is somewhat of a hack around that constraint. (This can become a lot more streamlined with some tweaks to the Trainer code from the Hugging Face folks =))\n",
        "\n",
        "We need to define a `MultitaskDataloader` that combines several data loaders into a single \"data loader\" - not so different from our multi-task model above! This `MultitaskDataloader` should do what we described: sample from different single-task data loaders, and yield a task batch and the corresponding task name (we're going to add the `task_name` to the batch data).\n",
        "\n",
        "We will also need to override the `get_train_dataloader` method of the `Trainer` to play well with our `MultitaskDataloader`. We do this with a `MultitaskTrainer`."
      ]
    },
    {
      "cell_type": "code",
      "execution_count": null,
      "metadata": {
        "id": "JdUbpAIZzWce"
      },
      "outputs": [],
      "source": [
        "import dataclasses\n",
        "from torch.utils.data.dataloader import DataLoader\n",
        "# from transformers.training_args import is_tpu_available\n",
        "# from transformers.trainer import get_tpu_sampler\n",
        "from transformers.data.data_collator import DataCollator, InputDataClass, DefaultDataCollator\n",
        "from torch.utils.data.distributed import DistributedSampler\n",
        "from torch.utils.data.sampler import RandomSampler\n",
        "from typing import List, Union, Dict\n",
        "\n",
        "\n",
        "class NLPDataCollator(DefaultDataCollator):\n",
        "    \"\"\"\n",
        "    Extending the existing DataCollator to work with NLP dataset batches\n",
        "    \"\"\"\n",
        "    def collate_batch(self, features: List[Union[InputDataClass, Dict]]) -> Dict[str, torch.Tensor]:\n",
        "        first = features[0]\n",
        "        if isinstance(first, dict):\n",
        "          # NLP data sets current works presents features as lists of dictionary\n",
        "          # (one per example), so we  will adapt the collate_batch logic for that\n",
        "          if \"labels\" in first and first[\"labels\"] is not None:\n",
        "              if first[\"labels\"].dtype == torch.int64:\n",
        "                  labels = torch.tensor([f[\"labels\"] for f in features], dtype=torch.long)\n",
        "              else:\n",
        "                  labels = torch.tensor([f[\"labels\"] for f in features], dtype=torch.float)\n",
        "              batch = {\"labels\": labels}\n",
        "          for k, v in first.items():\n",
        "              if k != \"labels\" and v is not None and not isinstance(v, str):\n",
        "                  batch[k] = torch.stack([f[k] for f in features])\n",
        "          # push input_ids, attention_mask and labels to 'cuda'\n",
        "          for k, v in batch.items():\n",
        "              if v is not None and not isinstance(v, str):\n",
        "                  batch[k] = v.to(device)\n",
        "          return batch\n",
        "        else:\n",
        "          # otherwise, revert to using the default collate_batch\n",
        "          return DefaultDataCollator().collate_batch(features)\n",
        "\n",
        "\n",
        "class StrIgnoreDevice(str):\n",
        "    \"\"\"\n",
        "    This is a hack. The Trainer is going call .to(device) on every input\n",
        "    value, but we need to pass in an additional `task_name` string.\n",
        "    This prevents it from throwing an error\n",
        "    \"\"\"\n",
        "    def to(self, device):\n",
        "        return self\n",
        "\n",
        "\n",
        "class DataLoaderWithTaskname:\n",
        "    \"\"\"\n",
        "    Wrapper around a DataLoader to also yield a task name\n",
        "    \"\"\"\n",
        "    def __init__(self, task_name, data_loader):\n",
        "        self.task_name = task_name\n",
        "        self.data_loader = data_loader\n",
        "\n",
        "        self.batch_size = data_loader.batch_size\n",
        "        self.dataset = data_loader.dataset\n",
        "\n",
        "    def __len__(self):\n",
        "        return len(self.data_loader)\n",
        "    \n",
        "    def __iter__(self):\n",
        "        for batch in self.data_loader:\n",
        "            batch[\"task_name\"] = StrIgnoreDevice(self.task_name)\n",
        "            yield batch\n",
        "\n",
        "\n",
        "class MultitaskDataloader:\n",
        "    \"\"\"\n",
        "    Data loader that combines and samples from multiple single-task\n",
        "    data loaders.\n",
        "    \"\"\"\n",
        "    def __init__(self, dataloader_dict):\n",
        "        self.dataloader_dict = dataloader_dict\n",
        "        self.num_batches_dict = {\n",
        "            task_name: len(dataloader) \n",
        "            for task_name, dataloader in self.dataloader_dict.items()\n",
        "        }\n",
        "        self.task_name_list = list(self.dataloader_dict)\n",
        "        self.dataset = [None] * sum(\n",
        "            len(dataloader.dataset) \n",
        "            for dataloader in self.dataloader_dict.values()\n",
        "        )\n",
        "\n",
        "    def __len__(self):\n",
        "        return sum(self.num_batches_dict.values())\n",
        "\n",
        "    def __iter__(self):\n",
        "        \"\"\"\n",
        "        For each batch, sample a task, and yield a batch from the respective\n",
        "        task Dataloader.\n",
        "\n",
        "        We use size-proportional sampling, but you could easily modify this\n",
        "        to sample from some-other distribution.\n",
        "        \"\"\"\n",
        "        task_choice_list = []\n",
        "        for i, task_name in enumerate(self.task_name_list):\n",
        "            task_choice_list += [i] * self.num_batches_dict[task_name]\n",
        "        task_choice_list = np.array(task_choice_list)\n",
        "        np.random.shuffle(task_choice_list)\n",
        "        dataloader_iter_dict = {\n",
        "            task_name: iter(dataloader) \n",
        "            for task_name, dataloader in self.dataloader_dict.items()\n",
        "        }\n",
        "        for task_choice in task_choice_list:\n",
        "            task_name = self.task_name_list[task_choice]\n",
        "            yield next(dataloader_iter_dict[task_name])    \n",
        "\n",
        "class MultitaskTrainer(transformers.Trainer):\n",
        "\n",
        "    def get_single_train_dataloader(self, task_name, train_dataset):\n",
        "        \"\"\"\n",
        "        Create a single-task data loader that also yields task names\n",
        "        \"\"\"\n",
        "        if self.train_dataset is None:\n",
        "            raise ValueError(\"Trainer: training requires a train_dataset.\")\n",
        "        else:\n",
        "            train_sampler = (\n",
        "                RandomSampler(train_dataset)\n",
        "                if self.args.local_rank == -1\n",
        "                else DistributedSampler(train_dataset)\n",
        "            )\n",
        "\n",
        "        data_loader = DataLoaderWithTaskname(\n",
        "            task_name=task_name,\n",
        "            data_loader=DataLoader(\n",
        "              train_dataset,\n",
        "              batch_size=self.args.train_batch_size,\n",
        "              sampler=train_sampler,\n",
        "              collate_fn=self.data_collator.collate_batch,\n",
        "            ),\n",
        "        )\n",
        "        return data_loader\n",
        "\n",
        "    def get_train_dataloader(self):\n",
        "        \"\"\"\n",
        "        Returns a MultitaskDataloader, which is not actually a Dataloader\n",
        "        but an iterable that returns a generator that samples from each \n",
        "        task Dataloader\n",
        "        \"\"\"\n",
        "        return MultitaskDataloader({\n",
        "            task_name: self.get_single_train_dataloader(task_name, task_dataset)\n",
        "            for task_name, task_dataset in self.train_dataset.items()\n",
        "        })"
      ]
    },
    {
      "cell_type": "markdown",
      "metadata": {
        "id": "8AtQfkWxVUSJ"
      },
      "source": [
        "## Time to train!\n",
        "\n",
        "Okay, we have done all the hard work, now it is time for it to pay off. We can now simply create our `MultitaskTrainer`, and start training! "
      ]
    },
    {
      "cell_type": "code",
      "execution_count": null,
      "metadata": {
        "cellView": "code",
        "id": "U4YUxdIZz3_i"
      },
      "outputs": [],
      "source": [
        "# title Default title text\n",
        "train_dataset = {\n",
        "    task_name: dataset[\"train\"] \n",
        "    for task_name, dataset in features_dict.items()\n",
        "}\n",
        "trainer = MultitaskTrainer(\n",
        "    model=multitask_model,\n",
        "    args=transformers.TrainingArguments(\n",
        "        output_dir=\"/content/drive/MyDrive/SemEval-Akash_Nidhir_Rishikesh/SemEval 2022 - Multilingual Document Similarity/train_models/model_6_megatron/models/multitask_model\",\n",
        "        overwrite_output_dir=True,\n",
        "        learning_rate=1e-5,\n",
        "        do_train=True,\n",
        "        num_train_epochs=2,\n",
        "        # Adjust batch size if this doesn't fit on the Colab GPU\n",
        "        per_device_train_batch_size=1,  \n",
        "        save_steps=10000,\n",
        "    ),\n",
        "    data_collator=NLPDataCollator(),\n",
        "    train_dataset=train_dataset,\n",
        ")\n",
        "trainer.train()"
      ]
    },
    {
      "cell_type": "code",
      "execution_count": null,
      "metadata": {
        "id": "j4qOGBWKWZ2l"
      },
      "outputs": [],
      "source": [
        "# wandb.finish()"
      ]
    },
    {
      "cell_type": "markdown",
      "metadata": {
        "id": "MBQQVj67j7kn"
      },
      "source": [
        "-----\n",
        "### Prediction"
      ]
    },
    {
      "cell_type": "code",
      "execution_count": null,
      "metadata": {
        "id": "o63ZCb-bn9jK"
      },
      "outputs": [],
      "source": [
        "from collections import defaultdict\n",
        "\n",
        "preds = defaultdict(list)\n",
        "batch_size = 1\n",
        "# idx, attention_mask, input_ids, sentence1, sentence2, labels\n",
        "task_name = 'semeval'\n",
        "dataset = 'test'\n",
        "val_len = len(features_dict[task_name][dataset])\n",
        "# val_len = 20\n",
        "\n",
        "for index in tqdm(range(0, val_len, batch_size), total=val_len):\n",
        "\n",
        "    idx = features_dict[task_name][dataset][index]\n",
        "    inputs = features_dict[task_name][dataset][index]\n",
        "\n",
        "    overall, attention_mask, input_ids = inputs['labels'], inputs['attention_mask'].unsqueeze(0).to(device), inputs['input_ids'].unsqueeze(0).to(device)\n",
        "\n",
        "    args = {'input_ids': input_ids, 'attention_mask': attention_mask}    \n",
        "    # print(multitask_model(task_name, **args))\n",
        "    overall_pred = multitask_model(task_name, **args)\n",
        "\n",
        "\n",
        "    preds['idx'].append(features_dict[task_name][dataset]['idx'][index])\n",
        "    preds['overall'].append(overall_pred['logits'].item())"
      ]
    },
    {
      "cell_type": "code",
      "execution_count": null,
      "metadata": {
        "id": "QHZ8dl9Q9qtm"
      },
      "outputs": [],
      "source": [
        "pred_overall = preds['overall']\n",
        "rounded_overall = []\n",
        "\n",
        "for pred in pred_overall:\n",
        "    if pred >= 4:\n",
        "        rounded_overall.append(4)\n",
        "    elif pred <= 1:\n",
        "        rounded_overall.append(1)\n",
        "    else:\n",
        "        rounded_overall.append(pred)"
      ]
    },
    {
      "cell_type": "code",
      "execution_count": null,
      "metadata": {
        "id": "0bdNmtuepUHY"
      },
      "outputs": [],
      "source": [
        "nlp.load_metric('glue', name=\"stsb\").compute(\n",
        "    rounded_overall,\n",
        "    features_dict[task_name][dataset]['labels'].tolist(),\n",
        ")"
      ]
    }
  ],
  "metadata": {
    "accelerator": "GPU",
    "colab": {
      "background_execution": "on",
      "collapsed_sections": [],
      "name": "Multi-task Training using MEGATRON",
      "provenance": []
    },
    "kernelspec": {
      "display_name": "Python 3",
      "name": "python3"
    }
  },
  "nbformat": 4,
  "nbformat_minor": 0
}
